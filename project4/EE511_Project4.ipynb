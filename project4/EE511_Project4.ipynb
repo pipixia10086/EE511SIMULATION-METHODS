{
 "cells": [
  {
   "cell_type": "code",
   "execution_count": 1,
   "metadata": {},
   "outputs": [
    {
     "name": "stdout",
     "output_type": "stream",
     "text": [
      "The stationary distributions with a=1/10 and b=1/15 {x: 0.400000000000000, y: 0.600000000000000}\n",
      "The stationary distributions with a=0.5 and b=0.5 {x: 0.500000000000000, y: 0.500000000000000}\n",
      "The stationary distributions with a=1.0 and b=1.0 {x: 0.500000000000000, y: 0.500000000000000}\n"
     ]
    }
   ],
   "source": [
    "import numpy as np\n",
    "from random import uniform\n",
    "from random import randint\n",
    "from scipy.linalg import solve\n",
    "import matplotlib.pyplot as plt\n",
    "from sympy import *\n",
    "%matplotlib inline\n",
    "\n",
    "def cal_22stationary_distribution(a, b):\n",
    "    x = Symbol('x')\n",
    "    y = Symbol('y')\n",
    "\n",
    "    trans_p = np.array(\n",
    "        [[1-a, a],\n",
    "         [b, 1-b]])\n",
    "    left = trans_p - np.eye(2)\n",
    "\n",
    "    res = solve([left[0][0]*x + left[1][0]*y, x + y - 1], [x, y])\n",
    "    return res\n",
    "\n",
    "\n",
    "print(\"The stationary distributions with a=1/10 and b=1/15\", \n",
    "      cal_22stationary_distribution(1/10, 1/15))\n",
    "print(\"The stationary distributions with a=0.5 and b=0.5\", \n",
    "      cal_22stationary_distribution(0.5, 0.5))\n",
    "print(\"The stationary distributions with a=1.0 and b=1.0\", \n",
    "      cal_22stationary_distribution(1.0, 1.0))"
   ]
  },
  {
   "cell_type": "markdown",
   "metadata": {},
   "source": [
    "1. DTFS MC Stationary distributions\n",
    "\n",
    "A stationary distribution of a Markov chain is a probability distribution $\\vec \\pi$ such that\n",
    "\\begin{align}\n",
    "\\vec \\pi = \\vec \\pi P\n",
    "\\end{align}\n",
    "Suppose  $\\vec \\pi$ = ( $\\pi_1$,  $\\pi_2$), we just calculate\n",
    "\\begin{align}\n",
    "\\vec \\pi = \\vec \\pi P  \\\\\n",
    " \\pi_1 + \\pi_2 = 1\n",
    "\\end{align}\n",
    "Therefore, \n",
    "when a=1/10 and b=1/15, the stationary distributions is [0.4.  0.6]<br>\n",
    "when a=0.5 and b=0.55, the stationary distributions is [0.5.  0.5]<br>\n",
    "when a=1.0 and b=1.0, the stationary distributions is [0.5 0.5] <br>\n",
    "but when a=0 and b=0, we cannot get unique the stationary distributions, we just could get $\\pi_1 + \\pi_2 = 1$. Any ($\\pi_1, \\pi_2$) satisfy the above equation are the stationary distribution.\n"
   ]
  },
  {
   "cell_type": "code",
   "execution_count": 2,
   "metadata": {},
   "outputs": [],
   "source": [
    "def check_answer(res, k=4):\n",
    "    degree_of_freedom = k - 1\n",
    "    # The threshold at a 5% significance level of different degree_of_freedom\n",
    "    chi_squared_dict = {\n",
    "        1: 3.84,\n",
    "        2: 5.99,\n",
    "        3: 7.82,\n",
    "        4: 9.49,\n",
    "        5: 11.07,\n",
    "        6: 12.59,\n",
    "        7: 14.07,\n",
    "        8: 15.51,\n",
    "        9: 16.92,\n",
    "        10: 18.31,\n",
    "    }\n",
    "    if res <= chi_squared_dict[degree_of_freedom]:\n",
    "        probability_of_truth = 0.95\n",
    "    else:\n",
    "        probability_of_truth = 0.05\n",
    "    return probability_of_truth\n",
    "\n",
    "\n",
    "trans_matrix1 = np.array(\n",
    "    [[0, 1],\n",
    "     [1, 0]]\n",
    ")\n",
    "\n",
    "trans_matrix2 = np.array(\n",
    "    [[0.75, 0.25],\n",
    "     [0.1, 0.9]]\n",
    ")\n",
    "\n",
    "trans_matrix3 = np.array(\n",
    "    [[0.48, 0.48, 0.04],\n",
    "     [0.22, 0.7, 0.08],\n",
    "     [0, 0, 1]]\n",
    ")\n",
    "\n",
    "\n",
    "pi1 = np.array([1, 0])\n",
    "pi2 = np.array([1, 0, 0])"
   ]
  },
  {
   "cell_type": "markdown",
   "metadata": {},
   "source": [
    "I randomly choose one sample path and do the statistic of the state of last 75 samples to simulate the time average and repeat the experiment 75 times，and in the each experiment I count the state of the last sample，what's more， I think of the result as the long-run result. So that we could get the infinite distribution. If the infinite distribution is similar to the time average. We could conclude that the chain is  ergodic. Also we could calculate the period of each state， if the gcd of period is 1 and all the state could communicate， we could get the same conclusion， that is， the chain is ergodic."
   ]
  },
  {
   "cell_type": "code",
   "execution_count": 27,
   "metadata": {},
   "outputs": [
    {
     "data": {
      "image/png": "[encoded data removed]",
      "text/plain": [
       "<matplotlib.figure.Figure at 0x24ccf4de5c0>"
      ]
     },
     "metadata": {},
     "output_type": "display_data"
    },
    {
     "data": {
      "image/png": "[encoded data removed]",
      "text/plain": [
       "<matplotlib.figure.Figure at 0x24ccf72cc18>"
      ]
     },
     "metadata": {},
     "output_type": "display_data"
    },
    {
     "name": "stdout",
     "output_type": "stream",
     "text": [
      "[75  0] [38 37]\n",
      "the probability that the chains are ergodic is 0.05\n"
     ]
    }
   ],
   "source": [
    "last_state = []\n",
    "time_average = []\n",
    "rand = randint(0, 75)\n",
    "for k in range(0, 75):\n",
    "    tmp = np.dot(pi1, trans_matrix1)\n",
    "    for i in range(0, 500):\n",
    "        out = uniform(0, 1)\n",
    "        if out <= tmp[0]:\n",
    "            out = 1\n",
    "        else:\n",
    "            out = 2\n",
    "        state = out\n",
    "        if k == rand and i >= 425:\n",
    "            time_average.append(state)\n",
    "        tmp = np.dot(tmp, trans_matrix1)\n",
    "        if i == 499:\n",
    "            last_state.append(state)\n",
    "\n",
    "            \n",
    "plt.hist(last_state)\n",
    "plt.show()\n",
    "plt.hist(time_average)\n",
    "plt.show()\n",
    "p, t = np.histogram(time_average, bins=2, range=(1, 2))\n",
    "p1, t1 = np.histogram(last_state, bins=2, range=(1, 2))\n",
    "print(p1, p)\n",
    "\n",
    "res = 0\n",
    "for i in range(0, 2):\n",
    "    if p1[i] != 0:\n",
    "        res += np.power((p[i] - p1[i]), 2)/p1[i]\n",
    "    else:\n",
    "        res += np.power((p[i] - p1[i]), 2) / 0.0001\n",
    "\n",
    "print('the probability that the chains are ergodic is', \n",
    "      check_answer(res, 2))"
   ]
  },
  {
   "cell_type": "markdown",
   "metadata": {},
   "source": [
    "From the transition matrix, we know that it just like flipping cois in specific, the state alternate between 1 and 2. Therefore the periodi of each state is 2. Therefore，the the chains cannot be ergodic."
   ]
  },
  {
   "cell_type": "code",
   "execution_count": 29,
   "metadata": {},
   "outputs": [
    {
     "data": {
      "image/png": "[encoded data removed]",
      "text/plain": [
       "<matplotlib.figure.Figure at 0x24ccf254e10>"
      ]
     },
     "metadata": {},
     "output_type": "display_data"
    },
    {
     "data": {
      "image/png": "[encoded data removed]",
      "text/plain": [
       "<matplotlib.figure.Figure at 0x24cd097f978>"
      ]
     },
     "metadata": {},
     "output_type": "display_data"
    },
    {
     "name": "stdout",
     "output_type": "stream",
     "text": [
      "[23 52] [24 51]\n",
      "the probability that the chains are ergodic is 0.95\n"
     ]
    }
   ],
   "source": [
    "last_state = []\n",
    "time_average = []\n",
    "rand = randint(0, 75)\n",
    "for k in range(0, 75):\n",
    "    tmp = np.dot(pi1, trans_matrix2)\n",
    "    for i in range(0, 500):\n",
    "        out = uniform(0, 1)\n",
    "        if out <= tmp[0]:\n",
    "            out = 1\n",
    "        else:\n",
    "            out = 2\n",
    "        state = out\n",
    "        if k == rand and i >= 425:\n",
    "            time_average.append(state)\n",
    "        tmp = np.dot(tmp, trans_matrix2)\n",
    "        if i == 499:\n",
    "            last_state.append(state)\n",
    "\n",
    "plt.hist(last_state)\n",
    "plt.show()\n",
    "plt.hist(time_average)\n",
    "plt.show()\n",
    "p, t = np.histogram(time_average, bins=2, range=(1, 2))\n",
    "p1, t1 = np.histogram(last_state, bins=2, range=(1, 2))\n",
    "print(p1, p)\n",
    "res = 0\n",
    "for i in range(0, 2):\n",
    "    if p1[i] != 0:\n",
    "        res += np.power((p[i] - p1[i]), 2)/p1[i]\n",
    "    else:\n",
    "        res += np.power((p[i] - p1[i]), 2) / 0.0001\n",
    "\n",
    "print('the probability that the chains are ergodic is', \n",
    "      check_answer(res, 2))"
   ]
  },
  {
   "cell_type": "markdown",
   "metadata": {},
   "source": [
    "From the result, we could get the ensemble and time averages are almostly the same，we use chi-squared test to verify that the chains are ergodic."
   ]
  },
  {
   "cell_type": "code",
   "execution_count": 33,
   "metadata": {},
   "outputs": [
    {
     "data": {
      "image/png": "[encoded data removed]",
      "text/plain": [
       "<matplotlib.figure.Figure at 0x24cd09a6128>"
      ]
     },
     "metadata": {},
     "output_type": "display_data"
    },
    {
     "data": {
      "image/png": "[encoded data removed]",
      "text/plain": [
       "<matplotlib.figure.Figure at 0x24ccf8a6f28>"
      ]
     },
     "metadata": {},
     "output_type": "display_data"
    },
    {
     "name": "stdout",
     "output_type": "stream",
     "text": [
      "[ 0  0 75] [ 0  0 75]\n",
      "the probability that the chains are ergodic is 0.95\n"
     ]
    }
   ],
   "source": [
    "last_state = []\n",
    "time_average = []\n",
    "rand = randint(0, 75)\n",
    "for k in range(0, 75):\n",
    "    tmp = np.dot(pi2, trans_matrix3)\n",
    "    for i in range(0, 500):\n",
    "        out = uniform(0, 1)\n",
    "        if out <= tmp[0]:\n",
    "            out = 1\n",
    "        elif tmp[0] < out <= tmp[1]:\n",
    "            out = 2\n",
    "        else:\n",
    "            out = 3\n",
    "        state = out\n",
    "        if k == rand and i >= 425:\n",
    "            time_average.append(state)\n",
    "        tmp = np.dot(tmp, trans_matrix3)  \n",
    "        if i == 499:\n",
    "            last_state.append(state)\n",
    "\n",
    "plt.hist(last_state)\n",
    "plt.show()\n",
    "plt.hist(time_average)\n",
    "plt.show()\n",
    "\n",
    "p, t = np.histogram(time_average, bins=3, range=(1, 3))\n",
    "p1, t1 = np.histogram(last_state, bins=3, range=(1, 3))\n",
    "print(p1, p)\n",
    "res = 0\n",
    "for i in range(0, 3):\n",
    "    if p1[i] != 0:\n",
    "        res += np.power((p[i] - p1[i]), 2)/p1[i]\n",
    "    else:\n",
    "        res += np.power((p[i] - p1[i]), 2) / 0.0001\n",
    "\n",
    "print('the probability that the chains are ergodic is', \n",
    "      check_answer(res, 2))"
   ]
  },
  {
   "cell_type": "markdown",
   "metadata": {},
   "source": [
    "From the result, we could get the state converge to state 3 and the ensemble and time averages are the same，therefore the chains are ergodic."
   ]
  }
 ],
 "metadata": {
  "kernelspec": {
   "display_name": "Python 3",
   "language": "python",
   "name": "python3"
  },
  "language_info": {
   "codemirror_mode": {
    "name": "ipython",
    "version": 3
   },
   "file_extension": ".py",
   "mimetype": "text/x-python",
   "name": "python",
   "nbconvert_exporter": "python",
   "pygments_lexer": "ipython3",
   "version": "3.6.4"
  }
 },
 "nbformat": 4,
 "nbformat_minor": 2
}
